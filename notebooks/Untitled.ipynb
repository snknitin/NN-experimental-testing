{
 "cells": [
  {
   "cell_type": "code",
   "execution_count": 1,
   "id": "36210ed4",
   "metadata": {},
   "outputs": [],
   "source": [
    "import os\n",
    "from pathlib import Path\n",
    "\n",
    "import pandas as pd\n",
    "import numpy as np\n",
    "\n",
    "np.random.seed(42)\n",
    "import time\n",
    "import json\n",
    "from datetime import date, datetime, timedelta\n",
    "import warnings\n",
    "\n",
    "warnings.filterwarnings(\"ignore\")\n",
    "from collections import defaultdict\n",
    "\n",
    "import hydra\n",
    "import omegaconf\n",
    "import pyrootutils \n",
    "    "
   ]
  },
  {
   "cell_type": "code",
   "execution_count": 3,
   "id": "a606a58a",
   "metadata": {},
   "outputs": [],
   "source": [
    "root = pyrootutils.setup_root(Path.cwd(), pythonpath=True)"
   ]
  },
  {
   "cell_type": "code",
   "execution_count": 4,
   "id": "11c642fa",
   "metadata": {},
   "outputs": [
    {
     "data": {
      "text/plain": [
       "WindowsPath('E:/GIT_ROOT/Projects/NN-experimental-testing')"
      ]
     },
     "execution_count": 4,
     "metadata": {},
     "output_type": "execute_result"
    }
   ],
   "source": [
    "root"
   ]
  },
  {
   "cell_type": "code",
   "execution_count": 6,
   "id": "6ddbc13b",
   "metadata": {},
   "outputs": [],
   "source": [
    "sql_file = root/\"src/datamodules/components/sql_queries\"/\"test.sql\""
   ]
  },
  {
   "cell_type": "code",
   "execution_count": 12,
   "id": "737a50ac",
   "metadata": {},
   "outputs": [
    {
     "data": {
      "text/plain": [
       "'select * from project.dataset.table\\nwhere svc_nm=S2H\\nlimit 100'"
      ]
     },
     "execution_count": 12,
     "metadata": {},
     "output_type": "execute_result"
    }
   ],
   "source": [
    "data = sql_file.read_text()\n",
    "data.format(**{'svc_nm':\"S2H\"})"
   ]
  },
  {
   "cell_type": "code",
   "execution_count": 11,
   "id": "b361dd35",
   "metadata": {},
   "outputs": [
    {
     "data": {
      "text/plain": [
       "'data_10_5'"
      ]
     },
     "execution_count": 11,
     "metadata": {},
     "output_type": "execute_result"
    }
   ],
   "source": [
    "\"data_{a}_{b}\".format(**{'a':'10','b':'5','c':\"2\"})"
   ]
  }
 ],
 "metadata": {
  "kernelspec": {
   "display_name": "GNN",
   "language": "python",
   "name": "gnn"
  },
  "language_info": {
   "codemirror_mode": {
    "name": "ipython",
    "version": 3
   },
   "file_extension": ".py",
   "mimetype": "text/x-python",
   "name": "python",
   "nbconvert_exporter": "python",
   "pygments_lexer": "ipython3",
   "version": "3.10.4"
  }
 },
 "nbformat": 4,
 "nbformat_minor": 5
}
